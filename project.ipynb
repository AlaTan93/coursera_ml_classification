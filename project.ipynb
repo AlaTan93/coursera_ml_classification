{
 "cells": [
  {
   "cell_type": "markdown",
   "id": "4bedfeef-4c17-4105-ab4e-c3241202c533",
   "metadata": {},
   "source": [
    "# Cancer Prediction Lab for Supervised Machine Learning: Classification\n",
    "\n",
    "Notebook Author: Tan Song Xin Alastair\n",
    "\n",
    "Dataset Source: Kaggle\n",
    "\n",
    "Dataset Source URL: https://www.kaggle.com/datasets/rabieelkharoua/cancer-prediction-dataset\n",
    "\n",
    "Accessed Date: 02 February 2025"
   ]
  },
  {
   "cell_type": "code",
   "execution_count": 19,
   "id": "aa8a8f95-e75b-45ed-b084-818f2534e7d3",
   "metadata": {},
   "outputs": [],
   "source": [
    "import pandas as pd\n",
    "import numpy as np\n",
    "import sklearn, statistics\n",
    "from sklearn.preprocessing import StandardScaler, MinMaxScaler, RobustScaler\n",
    "from scipy.stats import kstest\n",
    "import scipy.stats\n",
    "import matplotlib.pyplot as plt\n",
    "import seaborn as sns"
   ]
  },
  {
   "cell_type": "code",
   "execution_count": 30,
   "id": "7314ee7a-2370-4d91-ae9e-9ff56e34bee4",
   "metadata": {},
   "outputs": [
    {
     "name": "stdout",
     "output_type": "stream",
     "text": [
      "DataFrame Check:\n",
      "   Age  Gender        BMI  Smoking  GeneticRisk  PhysicalActivity  \\\n",
      "0   58       1  16.085313        0            1          8.146251   \n",
      "1   71       0  30.828784        0            1          9.361630   \n",
      "2   48       1  38.785084        0            2          5.135179   \n",
      "3   34       0  30.040296        0            0          9.502792   \n",
      "4   62       1  35.479721        0            0          5.356890   \n",
      "\n",
      "   AlcoholIntake  CancerHistory  Diagnosis  \n",
      "0       4.148219              1          1  \n",
      "1       3.519683              0          0  \n",
      "2       4.728368              0          1  \n",
      "3       2.044636              0          0  \n",
      "4       3.309849              0          1  \n",
      "NA/NULL count:\n",
      "Age                 0\n",
      "Gender              0\n",
      "BMI                 0\n",
      "Smoking             0\n",
      "GeneticRisk         0\n",
      "PhysicalActivity    0\n",
      "AlcoholIntake       0\n",
      "CancerHistory       0\n",
      "Diagnosis           0\n",
      "dtype: int64\n",
      "GeneticRisk\n",
      "0              895\n",
      "1              447\n",
      "2              158\n",
      "Name: count, dtype: int64\n",
      "Smoking\n",
      "0          1096\n",
      "1           404\n",
      "Name: count, dtype: int64\n",
      "CancerHistory\n",
      "0                1284\n",
      "1                 216\n",
      "Name: count, dtype: int64\n",
      "Diagnosis\n",
      "0            943\n",
      "1            557\n",
      "Name: count, dtype: int64\n"
     ]
    }
   ],
   "source": [
    "# Read dataset\n",
    "pd_dataset = pd.read_csv(\"cancer_pred_dataset.csv\")\n",
    "\n",
    "# Check if file is read properly.\n",
    "print(\"DataFrame Check:\")\n",
    "print(pd_dataset.head())\n",
    "\n",
    "# Check if there are null/na values to deal with\n",
    "print(\"NA/NULL count:\")\n",
    "print(pd_dataset.isna().sum())\n",
    "\n",
    "print(pd_dataset[[\"GeneticRisk\"]].value_counts())\n",
    "print(pd_dataset[[\"Smoking\"]].value_counts())\n",
    "print(pd_dataset[[\"CancerHistory\"]].value_counts())\n",
    "print(pd_dataset[[\"Diagnosis\"]].value_counts())"
   ]
  },
  {
   "cell_type": "markdown",
   "id": "530eacd1-151d-47bc-9965-19b807d7e5b4",
   "metadata": {},
   "source": [
    "## Categorical Value Counts:\n",
    "\n",
    "|GeneticRisk| | |Smoking| | |CancerHistory| | |Diagnosis| | \n",
    "|-----|-----|-----|-----|-----|-----|-----|-----|-----|-----|-----|\n",
    "|0|895| |0|1096| |0|1284| |0|943|\n",
    "|1|447| |1|404| |1|216| |1|557|\n",
    "|2|158| | | | |  | | | | |\n",
    "\n",
    "Some imbalance, but stratification will be attempted as a first simple step solution to thjis issue first."
   ]
  },
  {
   "cell_type": "code",
   "execution_count": 31,
   "id": "cf61aee3-3d1c-4ef7-8d5a-9c6b752b38bf",
   "metadata": {},
   "outputs": [
    {
     "name": "stdout",
     "output_type": "stream",
     "text": [
      "Age Statistics=0.07162216580865866, p-value=3.891956357447314e-07\n",
      "Log Age Statistics=0.09156205580510224, p-value=2.1516391261112486e-11\n",
      "Boxcox Age Statistics=0.07219479869679402, p-value=3.0371878232906383e-07\n",
      "Sqrt Age Statistics=0.07501624938587448, p-value=8.695030230524278e-08\n",
      "Robust Scaler Scaled Age Statistics=0.07162216580865877, p-value=3.8919563574471276e-07\n"
     ]
    }
   ],
   "source": [
    "#Basic Age Two-Sided Kolmogorov-Smirnov Test. p > 0.05 means p is likely normal\n",
    "\n",
    "stat, p = kstest(pd_dataset[\"Age\"], 'norm', args=(pd_dataset[\"Age\"].mean(), pd_dataset[\"Age\"].std()))\n",
    "print(f\"Age Statistics={stat}, p-value={p}\")\n",
    "\n",
    "stat, p = kstest(np.log(pd_dataset[\"Age\"]), 'norm', args=(np.log(pd_dataset[\"Age\"]).mean(), np.log(pd_dataset[\"Age\"]).std()))\n",
    "print(f\"Log Age Statistics={stat}, p-value={p}\")\n",
    "\n",
    "boxcox_result, _ = scipy.stats.boxcox(pd_dataset[\"Age\"])\n",
    "\n",
    "stat, p = kstest(boxcox_result, 'norm', args=(boxcox_result.mean(), boxcox_result.std()))\n",
    "print(f\"Boxcox Age Statistics={stat}, p-value={p}\")\n",
    "\n",
    "stat, p = kstest(np.sqrt(pd_dataset[\"Age\"]), 'norm', args=(np.sqrt(pd_dataset[\"Age\"]).mean(), np.sqrt(pd_dataset[\"Age\"]).std()))\n",
    "print(f\"Sqrt Age Statistics={stat}, p-value={p}\")\n",
    "\n",
    "robust_scaler = RobustScaler()\n",
    "pd_dataset[\"Scaled_Age\"] = robust_scaler.fit_transform(pd_dataset[[\"Age\"]])\n",
    "\n",
    "stat, p = kstest(pd_dataset[\"Scaled_Age\"], 'norm', args=(pd_dataset[\"Scaled_Age\"].mean(), pd_dataset[\"Scaled_Age\"].std()))\n",
    "print(f\"Robust Scaler Scaled Age Statistics={stat}, p-value={p}\")"
   ]
  },
  {
   "cell_type": "markdown",
   "id": "0226e9db-c15a-4028-87a0-07dd75b547a6",
   "metadata": {},
   "source": [
    "## Age Normalisation Result Attempts:\n",
    "\n",
    "Unmodified Age p-value=3.891956357447314e-07\n",
    "\n",
    "Log Age p-value=2.1516391261112486e-11\n",
    "\n",
    "Boxcox Age p-value=3.0371878232906383e-07\n",
    "\n",
    "Sqrt Age p-value=8.695030230524278e-08\n",
    "\n",
    "Robust Scaler Scaled Age p-value=3.8919563574471276e-07\n",
    "\n",
    "None of the values are greater than 0.05. For the purposes of Logistic Regression, will be using the robust scaler version, as it is more resilient to outliers."
   ]
  },
  {
   "cell_type": "code",
   "execution_count": 27,
   "id": "5321aaad-8b44-4046-bc25-cd4240432cf7",
   "metadata": {},
   "outputs": [
    {
     "name": "stdout",
     "output_type": "stream",
     "text": [
      "BMI Statistics=0.06083960549816192, p-value=2.8679341466106453e-05\n",
      "Log BMI Statistics=0.08150339501149417, p-value=4.0836749374851926e-09\n",
      "Boxcox BMI Statistics=0.06405942746565263, p-value=8.547553639087e-06\n",
      "Sqrt BMI Statistics=0.06825455305362982, p-value=1.607386546593516e-06\n",
      "Robust Scaler Scaled BMI Statistics=0.06083960549816192, p-value=2.8679341466106453e-05\n"
     ]
    }
   ],
   "source": [
    "#Basic BMI Two-Sided Kolmogorov-Smirnov Test. p > 0.05 means p is likely normal\n",
    "\n",
    "stat, p = kstest(pd_dataset[\"BMI\"], 'norm', args=(pd_dataset[\"BMI\"].mean(), pd_dataset[\"BMI\"].std()))\n",
    "print(f\"BMI Statistics={stat}, p-value={p}\")\n",
    "\n",
    "stat, p = kstest(np.log(pd_dataset[\"BMI\"]), 'norm', args=(np.log(pd_dataset[\"BMI\"]).mean(), np.log(pd_dataset[\"BMI\"]).std()))\n",
    "print(f\"Log BMI Statistics={stat}, p-value={p}\")\n",
    "\n",
    "boxcox_result, _ = scipy.stats.boxcox(pd_dataset[\"BMI\"])\n",
    "\n",
    "stat, p = kstest(boxcox_result, 'norm', args=(boxcox_result.mean(), boxcox_result.std()))\n",
    "print(f\"Boxcox BMI Statistics={stat}, p-value={p}\")\n",
    "\n",
    "stat, p = kstest(np.sqrt(pd_dataset[\"BMI\"]), 'norm', args=(np.sqrt(pd_dataset[\"BMI\"]).mean(), np.sqrt(pd_dataset[\"BMI\"]).std()))\n",
    "print(f\"Sqrt BMI Statistics={stat}, p-value={p}\")\n",
    "\n",
    "robust_scaler = RobustScaler()\n",
    "pd_dataset[\"Scaled_BMI\"] = robust_scaler.fit_transform(pd_dataset[[\"BMI\"]])\n",
    "\n",
    "stat, p = kstest(pd_dataset[\"Scaled_BMI\"], 'norm', args=(pd_dataset[\"Scaled_BMI\"].mean(), pd_dataset[\"Scaled_BMI\"].std()))\n",
    "print(f\"Robust Scaler Scaled BMI Statistics={stat}, p-value={p}\")\n"
   ]
  },
  {
   "cell_type": "markdown",
   "id": "b707130c-1363-4f5e-ac00-5b4155f1e19a",
   "metadata": {},
   "source": [
    "## BMI Normalisation Result Attempts:\n",
    "\n",
    "BMI Statistics=0.06083960549816192, p-value=2.8679341466106453e-05\n",
    "\n",
    "Log BMI Statistics=0.08150339501149417, p-value=4.0836749374851926e-09\n",
    "\n",
    "Boxcox BMI Statistics=0.06405942746565263, p-value=8.547553639087e-06\n",
    "\n",
    "Sqrt BMI Statistics=0.06825455305362982, p-value=1.607386546593516e-06\n",
    "\n",
    "Robust Scaler Scaled BMI Statistics=0.06083960549816192, p-value=2.8679341466106453e-05\n",
    "\n",
    "None of the values are greater than 0.05. For the purposes of Logistic Regression, will be using the robust scaler version, as it is more resilient to outliers."
   ]
  },
  {
   "cell_type": "code",
   "execution_count": 28,
   "id": "57c916f7-ee09-4214-bd2a-290bf6454bbf",
   "metadata": {},
   "outputs": [
    {
     "name": "stdout",
     "output_type": "stream",
     "text": [
      "PhysicalActivity Statistics=0.06320157936067106, p-value=1.1873079156051877e-05\n"
     ]
    }
   ],
   "source": [
    "#Basic Physical Activity Two-Sided Kolmogorov-Smirnov Test. p > 0.05 means p is likely normal\n",
    "\n",
    "stat, p = kstest(pd_dataset[\"PhysicalActivity\"], 'norm', args=(pd_dataset[\"PhysicalActivity\"].mean(), pd_dataset[\"PhysicalActivity\"].std()))\n",
    "print(f\"PhysicalActivity Statistics={stat}, p-value={p}\")"
   ]
  },
  {
   "cell_type": "code",
   "execution_count": null,
   "id": "3ddcb864-3da4-4bac-b84f-4bb82daa3b3c",
   "metadata": {},
   "outputs": [],
   "source": []
  }
 ],
 "metadata": {
  "kernelspec": {
   "display_name": "Python 3 (ipykernel)",
   "language": "python",
   "name": "python3"
  },
  "language_info": {
   "codemirror_mode": {
    "name": "ipython",
    "version": 3
   },
   "file_extension": ".py",
   "mimetype": "text/x-python",
   "name": "python",
   "nbconvert_exporter": "python",
   "pygments_lexer": "ipython3",
   "version": "3.13.1"
  }
 },
 "nbformat": 4,
 "nbformat_minor": 5
}
