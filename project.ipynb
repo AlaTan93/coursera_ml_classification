{
 "cells": [
  {
   "cell_type": "markdown",
   "id": "4bedfeef-4c17-4105-ab4e-c3241202c533",
   "metadata": {},
   "source": [
    "# Cancer Prediction Lab for Supervised Machine Learning: Classification\n",
    "\n",
    "Author: Tan Song Xin Alastair\n",
    "\n",
    "Source: Kaggle\n",
    "\n",
    "Source URL: https://www.kaggle.com/datasets/rabieelkharoua/cancer-prediction-dataset\n",
    "\n",
    "Accessed Date: 02 February 2025"
   ]
  },
  {
   "cell_type": "code",
   "execution_count": 3,
   "id": "aa8a8f95-e75b-45ed-b084-818f2534e7d3",
   "metadata": {},
   "outputs": [],
   "source": [
    "import pandas as pd\n",
    "import numpy as np\n",
    "import sklearn, statistics\n",
    "from scipy.stats import kstest\n",
    "import scipy.stats\n",
    "import matplotlib.pyplot as plt\n",
    "import seaborn as sns"
   ]
  },
  {
   "cell_type": "code",
   "execution_count": 4,
   "id": "7314ee7a-2370-4d91-ae9e-9ff56e34bee4",
   "metadata": {},
   "outputs": [
    {
     "name": "stdout",
     "output_type": "stream",
     "text": [
      "DataFrame Check:\n",
      "   Age  Gender        BMI  Smoking  GeneticRisk  PhysicalActivity  \\\n",
      "0   58       1  16.085313        0            1          8.146251   \n",
      "1   71       0  30.828784        0            1          9.361630   \n",
      "2   48       1  38.785084        0            2          5.135179   \n",
      "3   34       0  30.040296        0            0          9.502792   \n",
      "4   62       1  35.479721        0            0          5.356890   \n",
      "\n",
      "   AlcoholIntake  CancerHistory  Diagnosis  \n",
      "0       4.148219              1          1  \n",
      "1       3.519683              0          0  \n",
      "2       4.728368              0          1  \n",
      "3       2.044636              0          0  \n",
      "4       3.309849              0          1  \n",
      "NA/NULL count:\n",
      "Age                 0\n",
      "Gender              0\n",
      "BMI                 0\n",
      "Smoking             0\n",
      "GeneticRisk         0\n",
      "PhysicalActivity    0\n",
      "AlcoholIntake       0\n",
      "CancerHistory       0\n",
      "Diagnosis           0\n",
      "dtype: int64\n"
     ]
    }
   ],
   "source": [
    "# Read dataset\n",
    "pd_dataset = pd.read_csv(\"cancer_pred_dataset.csv\")\n",
    "\n",
    "# Check if file is read properly.\n",
    "print(\"DataFrame Check:\")\n",
    "print(pd_dataset.head())\n",
    "\n",
    "# Check if there are null/na values to deal with\n",
    "print(\"NA/NULL count:\")\n",
    "print(pd_dataset.isna().sum())"
   ]
  },
  {
   "cell_type": "code",
   "execution_count": 5,
   "id": "cf61aee3-3d1c-4ef7-8d5a-9c6b752b38bf",
   "metadata": {},
   "outputs": [
    {
     "name": "stdout",
     "output_type": "stream",
     "text": [
      "Age Statistics=0.07162216580865866, p-value=3.891956357447314e-07\n",
      "Log Age Statistics=0.09156205580510224, p-value=2.1516391261112486e-11\n",
      "Boxcox Age Statistics=0.07219479869679402, p-value=3.0371878232906383e-07\n",
      "Sqrt Age Statistics=0.07501624938587448, p-value=8.695030230524278e-08\n"
     ]
    }
   ],
   "source": [
    "#Basic Age Two-Sided Kolmogorov-Smirnov Test. p > 0.05 means p is likely normal\n",
    "\n",
    "stat, p = kstest(pd_dataset[\"Age\"], 'norm', args=(pd_dataset[\"Age\"].mean(), pd_dataset[\"Age\"].std()))\n",
    "print(f\"Age Statistics={stat}, p-value={p}\")\n",
    "\n",
    "stat, p = kstest(np.log(pd_dataset[\"Age\"]), 'norm', args=(np.log(pd_dataset[\"Age\"]).mean(), np.log(pd_dataset[\"Age\"]).std()))\n",
    "print(f\"Log Age Statistics={stat}, p-value={p}\")\n",
    "\n",
    "boxcox_result, _ = scipy.stats.boxcox(pd_dataset[\"Age\"])\n",
    "\n",
    "stat, p = kstest(boxcox_result, 'norm', args=(boxcox_result.mean(), boxcox_result.std()))\n",
    "print(f\"Boxcox Age Statistics={stat}, p-value={p}\")\n",
    "\n",
    "stat, p = kstest(np.sqrt(pd_dataset[\"Age\"]), 'norm', args=(np.sqrt(pd_dataset[\"Age\"]).mean(), np.sqrt(pd_dataset[\"Age\"]).std()))\n",
    "print(f\"Sqrt Age Statistics={stat}, p-value={p}\")\n",
    "\n",
    "#age_plot = sns.histplot(pd_dataset['Age'], bins=20, kde=True, stat='count', color='skyblue')\n",
    "#plt.xlabel(\"Age Distribution\")\n",
    "#plt.show(age_plot)\n",
    "\n",
    "#age_log_plot = sns.histplot(np.log(pd_dataset['Age']), bins=20, kde=True, stat='count', color='skyblue')\n",
    "#plt.xlabel(\"Age Log Distribution\")\n",
    "#plt.show(age_log_plot)\n",
    "\n",
    "#bmi_plot = sns.histplot(pd_dataset['BMI'], bins=20, kde=True, stat='density', color='skyblue')\n",
    "#plt.xlabel(\"BMI Distribution\")\n",
    "#plt.show(bmi_plot)\n",
    "\n"
   ]
  },
  {
   "cell_type": "markdown",
   "id": "0226e9db-c15a-4028-87a0-07dd75b547a6",
   "metadata": {},
   "source": [
    "## Normalisation Result Attempts:\n",
    "\n",
    "Unmodified Age p-value=3.891956357447314e-07\n",
    "\n",
    "Log Age p-value=2.1516391261112486e-11\n",
    "\n",
    "Boxcox Age p-value=3.0371878232906383e-07\n",
    "\n",
    "Sqrt Age p-value=8.695030230524278e-08\n",
    "\n",
    "None of the values are greater than 0.05. For the purposes of Logistic Regression, "
   ]
  },
  {
   "cell_type": "code",
   "execution_count": null,
   "id": "5321aaad-8b44-4046-bc25-cd4240432cf7",
   "metadata": {},
   "outputs": [],
   "source": []
  }
 ],
 "metadata": {
  "kernelspec": {
   "display_name": "Python 3 (ipykernel)",
   "language": "python",
   "name": "python3"
  },
  "language_info": {
   "codemirror_mode": {
    "name": "ipython",
    "version": 3
   },
   "file_extension": ".py",
   "mimetype": "text/x-python",
   "name": "python",
   "nbconvert_exporter": "python",
   "pygments_lexer": "ipython3",
   "version": "3.13.1"
  }
 },
 "nbformat": 4,
 "nbformat_minor": 5
}
